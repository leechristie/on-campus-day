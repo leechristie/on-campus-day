{
 "cells": [
  {
   "cell_type": "code",
   "execution_count": null,
   "id": "a151b542-d5d7-4813-be53-fc980b8153fd",
   "metadata": {},
   "outputs": [],
   "source": [
    "1 + 1"
   ]
  },
  {
   "cell_type": "code",
   "execution_count": null,
   "id": "6bc8b473-82cd-4503-9976-68092af881fa",
   "metadata": {},
   "outputs": [],
   "source": [
    "42 * 100"
   ]
  },
  {
   "cell_type": "code",
   "execution_count": null,
   "id": "b123814e-e6b4-42f3-8969-c3e7712aa284",
   "metadata": {},
   "outputs": [],
   "source": [
    "print('Hi')"
   ]
  },
  {
   "cell_type": "code",
   "execution_count": null,
   "id": "18a5599a-78f5-4850-8733-ae268e42e164",
   "metadata": {},
   "outputs": [],
   "source": [
    "for i in range(1000):\n",
    "    print('Hello', i)"
   ]
  },
  {
   "cell_type": "code",
   "execution_count": null,
   "id": "fe12c2f3-c1ef-4e65-a8b5-f25717f029bc",
   "metadata": {},
   "outputs": [],
   "source": []
  }
 ],
 "metadata": {
  "kernelspec": {
   "display_name": "Python 3 (ipykernel)",
   "language": "python",
   "name": "python3"
  },
  "language_info": {
   "codemirror_mode": {
    "name": "ipython",
    "version": 3
   },
   "file_extension": ".py",
   "mimetype": "text/x-python",
   "name": "python",
   "nbconvert_exporter": "python",
   "pygments_lexer": "ipython3",
   "version": "3.12.6"
  }
 },
 "nbformat": 4,
 "nbformat_minor": 5
}
